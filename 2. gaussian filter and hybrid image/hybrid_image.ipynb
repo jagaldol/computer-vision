{
 "cells": [
  {
   "attachments": {},
   "cell_type": "markdown",
   "metadata": {},
   "source": [
    "## Gaussian Filtering"
   ]
  },
  {
   "cell_type": "code",
   "execution_count": 1,
   "metadata": {},
   "outputs": [],
   "source": [
    "from PIL import Image\n",
    "import numpy as np\n",
    "import math"
   ]
  },
  {
   "attachments": {},
   "cell_type": "markdown",
   "metadata": {},
   "source": [
    "### 1. boxfilter"
   ]
  },
  {
   "cell_type": "code",
   "execution_count": 2,
   "metadata": {},
   "outputs": [],
   "source": [
    "def boxfilter(n):\n",
    "    # n이 odd가 아니면 assert error\n",
    "    assert n%2==1, \"Dimension must be odd\"\n",
    "    return np.ones((n, n)) / (n * n)\n"
   ]
  },
  {
   "cell_type": "code",
   "execution_count": 3,
   "metadata": {},
   "outputs": [
    {
     "data": {
      "text/plain": [
       "array([[0.11111111, 0.11111111, 0.11111111],\n",
       "       [0.11111111, 0.11111111, 0.11111111],\n",
       "       [0.11111111, 0.11111111, 0.11111111]])"
      ]
     },
     "execution_count": 3,
     "metadata": {},
     "output_type": "execute_result"
    }
   ],
   "source": [
    "boxfilter(3)"
   ]
  },
  {
   "cell_type": "code",
   "execution_count": 4,
   "metadata": {},
   "outputs": [
    {
     "ename": "AssertionError",
     "evalue": "Dimension must be odd",
     "output_type": "error",
     "traceback": [
      "\u001b[1;31m---------------------------------------------------------------------------\u001b[0m",
      "\u001b[1;31mAssertionError\u001b[0m                            Traceback (most recent call last)",
      "Cell \u001b[1;32mIn[4], line 1\u001b[0m\n\u001b[1;32m----> 1\u001b[0m boxfilter(\u001b[39m4\u001b[39;49m)\n",
      "Cell \u001b[1;32mIn[2], line 3\u001b[0m, in \u001b[0;36mboxfilter\u001b[1;34m(n)\u001b[0m\n\u001b[0;32m      1\u001b[0m \u001b[39mdef\u001b[39;00m \u001b[39mboxfilter\u001b[39m(n):\n\u001b[0;32m      2\u001b[0m     \u001b[39m# n이 odd가 아니면 assert error\u001b[39;00m\n\u001b[1;32m----> 3\u001b[0m     \u001b[39massert\u001b[39;00m n\u001b[39m%\u001b[39m\u001b[39m2\u001b[39m\u001b[39m==\u001b[39m\u001b[39m1\u001b[39m, \u001b[39m\"\u001b[39m\u001b[39mDimension must be odd\u001b[39m\u001b[39m\"\u001b[39m\n\u001b[0;32m      4\u001b[0m     \u001b[39mreturn\u001b[39;00m np\u001b[39m.\u001b[39mones((n, n)) \u001b[39m/\u001b[39m (n \u001b[39m*\u001b[39m n)\n",
      "\u001b[1;31mAssertionError\u001b[0m: Dimension must be odd"
     ]
    }
   ],
   "source": [
    "boxfilter(4)"
   ]
  },
  {
   "cell_type": "code",
   "execution_count": 5,
   "metadata": {},
   "outputs": [
    {
     "data": {
      "text/plain": [
       "array([[0.04, 0.04, 0.04, 0.04, 0.04],\n",
       "       [0.04, 0.04, 0.04, 0.04, 0.04],\n",
       "       [0.04, 0.04, 0.04, 0.04, 0.04],\n",
       "       [0.04, 0.04, 0.04, 0.04, 0.04],\n",
       "       [0.04, 0.04, 0.04, 0.04, 0.04]])"
      ]
     },
     "execution_count": 5,
     "metadata": {},
     "output_type": "execute_result"
    }
   ],
   "source": [
    "boxfilter(5)"
   ]
  },
  {
   "attachments": {},
   "cell_type": "markdown",
   "metadata": {},
   "source": [
    "### 2.gauss1d(sigma)"
   ]
  },
  {
   "cell_type": "code",
   "execution_count": 6,
   "metadata": {},
   "outputs": [],
   "source": [
    "def gauss1d(sigma):\n",
    "    length = math.ceil(sigma * 6)\n",
    "    if length % 2 == 0:\n",
    "        length += 1\n",
    "    xs = np.arange(-(length // 2), length // 2 + 1, 1)\n",
    "    gaussian = np.exp(-xs**2 / (2 * sigma ** 2))\n",
    "    return gaussian / np.sum(gaussian)"
   ]
  },
  {
   "cell_type": "code",
   "execution_count": 7,
   "metadata": {},
   "outputs": [
    {
     "data": {
      "text/plain": [
       "array([0.00383626, 0.99232748, 0.00383626])"
      ]
     },
     "execution_count": 7,
     "metadata": {},
     "output_type": "execute_result"
    }
   ],
   "source": [
    "gauss1d(0.3)"
   ]
  },
  {
   "cell_type": "code",
   "execution_count": 8,
   "metadata": {},
   "outputs": [
    {
     "data": {
      "text/plain": [
       "array([0.10650698, 0.78698604, 0.10650698])"
      ]
     },
     "execution_count": 8,
     "metadata": {},
     "output_type": "execute_result"
    }
   ],
   "source": [
    "gauss1d(0.5)"
   ]
  },
  {
   "cell_type": "code",
   "execution_count": 9,
   "metadata": {},
   "outputs": [
    {
     "data": {
      "text/plain": [
       "array([0.00443305, 0.05400558, 0.24203623, 0.39905028, 0.24203623,\n",
       "       0.05400558, 0.00443305])"
      ]
     },
     "execution_count": 9,
     "metadata": {},
     "output_type": "execute_result"
    }
   ],
   "source": [
    "gauss1d(1)"
   ]
  },
  {
   "cell_type": "code",
   "execution_count": 10,
   "metadata": {},
   "outputs": [
    {
     "data": {
      "text/plain": [
       "array([0.0022182 , 0.00877313, 0.02702316, 0.06482519, 0.12110939,\n",
       "       0.17621312, 0.19967563, 0.17621312, 0.12110939, 0.06482519,\n",
       "       0.02702316, 0.00877313, 0.0022182 ])"
      ]
     },
     "execution_count": 10,
     "metadata": {},
     "output_type": "execute_result"
    }
   ],
   "source": [
    "gauss1d(2)"
   ]
  },
  {
   "attachments": {},
   "cell_type": "markdown",
   "metadata": {},
   "source": [
    "### 3. gauss2d(sigma)"
   ]
  },
  {
   "cell_type": "code",
   "execution_count": 11,
   "metadata": {},
   "outputs": [],
   "source": [
    "def gauss2d(sigma):\n",
    "    gaussian1d = gauss1d(sigma)\n",
    "    return np.outer(gaussian1d, gaussian1d)"
   ]
  },
  {
   "cell_type": "code",
   "execution_count": 12,
   "metadata": {},
   "outputs": [
    {
     "data": {
      "text/plain": [
       "array([[0.01134374, 0.08381951, 0.01134374],\n",
       "       [0.08381951, 0.61934703, 0.08381951],\n",
       "       [0.01134374, 0.08381951, 0.01134374]])"
      ]
     },
     "execution_count": 12,
     "metadata": {},
     "output_type": "execute_result"
    }
   ],
   "source": [
    "gauss2d(0.5)"
   ]
  },
  {
   "cell_type": "code",
   "execution_count": 13,
   "metadata": {},
   "outputs": [
    {
     "data": {
      "text/plain": [
       "array([[1.96519161e-05, 2.39409349e-04, 1.07295826e-03, 1.76900911e-03,\n",
       "        1.07295826e-03, 2.39409349e-04, 1.96519161e-05],\n",
       "       [2.39409349e-04, 2.91660295e-03, 1.30713076e-02, 2.15509428e-02,\n",
       "        1.30713076e-02, 2.91660295e-03, 2.39409349e-04],\n",
       "       [1.07295826e-03, 1.30713076e-02, 5.85815363e-02, 9.65846250e-02,\n",
       "        5.85815363e-02, 1.30713076e-02, 1.07295826e-03],\n",
       "       [1.76900911e-03, 2.15509428e-02, 9.65846250e-02, 1.59241126e-01,\n",
       "        9.65846250e-02, 2.15509428e-02, 1.76900911e-03],\n",
       "       [1.07295826e-03, 1.30713076e-02, 5.85815363e-02, 9.65846250e-02,\n",
       "        5.85815363e-02, 1.30713076e-02, 1.07295826e-03],\n",
       "       [2.39409349e-04, 2.91660295e-03, 1.30713076e-02, 2.15509428e-02,\n",
       "        1.30713076e-02, 2.91660295e-03, 2.39409349e-04],\n",
       "       [1.96519161e-05, 2.39409349e-04, 1.07295826e-03, 1.76900911e-03,\n",
       "        1.07295826e-03, 2.39409349e-04, 1.96519161e-05]])"
      ]
     },
     "execution_count": 13,
     "metadata": {},
     "output_type": "execute_result"
    }
   ],
   "source": [
    "gauss2d(1)"
   ]
  },
  {
   "attachments": {},
   "cell_type": "markdown",
   "metadata": {},
   "source": [
    "### 4. convovle2d(array, filter)"
   ]
  },
  {
   "cell_type": "code",
   "execution_count": 14,
   "metadata": {},
   "outputs": [],
   "source": [
    "def convolve2d(array, filter):\n",
    "    height, width = array.shape\n",
    "    filterSize = filter.shape[0]\n",
    "\n",
    "    paddingSize = filterSize // 2\n",
    "\n",
    "    modifiedArray = np.zeros((height + 2 * paddingSize, width + 2 * paddingSize))\n",
    "    modifiedArray[paddingSize:-paddingSize, paddingSize: -paddingSize] = array\n",
    "\n",
    "    result = np.zeros((height, width))\n",
    "\n",
    "    np.flip(filter, axis=0)\n",
    "    np.flip(filter, axis=1)\n",
    "\n",
    "    for i in range(height):\n",
    "        for j in range(width):\n",
    "            window = modifiedArray[i:i+filterSize, j:j+filterSize]\n",
    "\n",
    "            result[i,j] = np.sum(window * filter)\n",
    "    \n",
    "    return result\n",
    "    "
   ]
  },
  {
   "cell_type": "code",
   "execution_count": 15,
   "metadata": {},
   "outputs": [],
   "source": [
    "def gaussconvolve2d(array, sigma):\n",
    "    filter = gauss2d(sigma)\n",
    "    return convolve2d(array, filter)"
   ]
  },
  {
   "cell_type": "code",
   "execution_count": 16,
   "metadata": {},
   "outputs": [],
   "source": [
    "im = Image.open('./images/2b_dog.bmp')\n",
    "im.show()\n",
    "im = im.convert('L')\n",
    "im = np.asarray(im)\n",
    "\n",
    "im = gaussconvolve2d(im, 3)\n",
    "im = np.clip(im, 0, 255).astype(np.uint8)\n",
    "im = Image.fromarray(im)\n",
    "im.save(\"./result_images/dog_convolution.png\", \"PNG\")\n",
    "im.show()"
   ]
  },
  {
   "cell_type": "markdown",
   "metadata": {},
   "source": [
    "## Hypbrid Images"
   ]
  },
  {
   "attachments": {},
   "cell_type": "markdown",
   "metadata": {},
   "source": [
    "### 1. Gaussian filtered low frequency image"
   ]
  },
  {
   "cell_type": "code",
   "execution_count": 17,
   "metadata": {},
   "outputs": [],
   "source": [
    "blur = Image.open('./images/2b_dog.bmp')\n",
    "blur = np.asarray(blur)\n",
    "sigma = 10\n",
    "\n",
    "r = gaussconvolve2d(blur[:,:,0], sigma)\n",
    "g = gaussconvolve2d(blur[:,:,1], sigma)\n",
    "b = gaussconvolve2d(blur[:,:,2], sigma)\n",
    "\n",
    "blur = np.dstack([r, g, b])\n",
    "blur = np.clip(blur, 0, 255).astype(np.uint8)\n",
    "blurImage = Image.fromarray(blur)\n",
    "blurImage.save(\"./result_images/blur_image.png\", \"PNG\")\n",
    "blurImage.show()"
   ]
  },
  {
   "cell_type": "code",
   "execution_count": 18,
   "metadata": {},
   "outputs": [],
   "source": [
    "sharpen = Image.open('./images/2a_cat.bmp')\n",
    "sharpen = np.asarray(sharpen)\n",
    "sigma = 10\n",
    "\n",
    "r = gaussconvolve2d(sharpen[:,:,0], sigma)\n",
    "g = gaussconvolve2d(sharpen[:,:,1], sigma)\n",
    "b = gaussconvolve2d(sharpen[:,:,2], sigma)\n",
    "\n",
    "blurredSharpen = np.dstack([r, g, b])\n",
    "blurredSharpen = np.clip(blurredSharpen, 0, 255).astype(np.int16)\n",
    "\n",
    "highFreqSharpen = sharpen - blurredSharpen\n",
    "\n",
    "highFreqSharpen = np.clip(highFreqSharpen, -128, 127).astype(np.int16)\n",
    "\n",
    "visulalizeHighFreqSharpen = highFreqSharpen + np.ones_like(highFreqSharpen) * 128\n",
    "visulalizeHighFreqSharpen = np.clip(visulalizeHighFreqSharpen, 0, 255).astype(np.uint8)\n",
    "visulalizeHighFreqSharpen = Image.fromarray(visulalizeHighFreqSharpen)\n",
    "\n",
    "visulalizeHighFreqSharpen.save(\"./result_images/high_freq_image.png\", \"PNG\")\n",
    "visulalizeHighFreqSharpen.show()"
   ]
  },
  {
   "cell_type": "code",
   "execution_count": 19,
   "metadata": {},
   "outputs": [],
   "source": [
    "hybridImage = blur + highFreqSharpen\n",
    "hybridImage = np.clip(hybridImage, 0, 255).astype(np.uint8)\n",
    "hybridImage = Image.fromarray(hybridImage)\n",
    "hybridImage.save(\"./result_images/hybrid_image.png\", \"PNG\")\n",
    "hybridImage.show()"
   ]
  },
  {
   "cell_type": "code",
   "execution_count": null,
   "metadata": {},
   "outputs": [],
   "source": []
  }
 ],
 "metadata": {
  "kernelspec": {
   "display_name": ".venv",
   "language": "python",
   "name": "python3"
  },
  "language_info": {
   "codemirror_mode": {
    "name": "ipython",
    "version": 3
   },
   "file_extension": ".py",
   "mimetype": "text/x-python",
   "name": "python",
   "nbconvert_exporter": "python",
   "pygments_lexer": "ipython3",
   "version": "3.11.2"
  },
  "orig_nbformat": 4
 },
 "nbformat": 4,
 "nbformat_minor": 2
}
