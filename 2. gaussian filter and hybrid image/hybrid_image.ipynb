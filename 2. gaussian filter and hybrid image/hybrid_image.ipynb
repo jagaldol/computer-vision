{
 "cells": [
  {
   "cell_type": "code",
   "execution_count": 1,
   "metadata": {},
   "outputs": [
    {
     "name": "stdout",
     "output_type": "stream",
     "text": [
      "Requirement already satisfied: Pillow in c:\\users\\hyejun\\.conda\\envs\\.venv\\lib\\site-packages (9.4.0)\n",
      "Requirement already satisfied: numpy in c:\\users\\hyejun\\.conda\\envs\\.venv\\lib\\site-packages (1.24.2)\n",
      "Collecting match\n",
      "  Downloading match-0.3.2.tar.gz (8.9 kB)\n",
      "  Preparing metadata (setup.py): started\n",
      "  Preparing metadata (setup.py): finished with status 'done'\n",
      "Collecting nltk>=3.4\n",
      "  Downloading nltk-3.8.1-py3-none-any.whl (1.5 MB)\n",
      "     ---------------------------------------- 1.5/1.5 MB 10.6 MB/s eta 0:00:00\n",
      "Collecting regex>=2018.7.11\n",
      "  Downloading regex-2023.3.23-cp38-cp38-win_amd64.whl (267 kB)\n",
      "     ------------------------------------- 267.9/267.9 kB 16.1 MB/s eta 0:00:00\n",
      "Collecting click\n",
      "  Downloading click-8.1.3-py3-none-any.whl (96 kB)\n",
      "     ---------------------------------------- 96.6/96.6 kB ? eta 0:00:00\n",
      "Collecting tqdm\n",
      "  Downloading tqdm-4.65.0-py3-none-any.whl (77 kB)\n",
      "     ---------------------------------------- 77.1/77.1 kB ? eta 0:00:00\n",
      "Collecting joblib\n",
      "  Using cached joblib-1.2.0-py3-none-any.whl (297 kB)\n",
      "Requirement already satisfied: colorama in c:\\users\\hyejun\\.conda\\envs\\.venv\\lib\\site-packages (from click->nltk>=3.4->match) (0.4.6)\n",
      "Building wheels for collected packages: match\n",
      "  Building wheel for match (setup.py): started\n",
      "  Building wheel for match (setup.py): finished with status 'done'\n",
      "  Created wheel for match: filename=match-0.3.2-py3-none-any.whl size=9326 sha256=e0ee6199e9015ea6e9a89ba98437685fc63f78baceeb1cf8f4ca329454bd1c4b\n",
      "  Stored in directory: c:\\users\\hyejun\\appdata\\local\\pip\\cache\\wheels\\ce\\e9\\98\\868ca1cf4b2dd2de9e6ee99231fb687f2e3dc725e7b6736234\n",
      "Successfully built match\n",
      "Installing collected packages: tqdm, regex, joblib, click, nltk, match\n",
      "Successfully installed click-8.1.3 joblib-1.2.0 match-0.3.2 nltk-3.8.1 regex-2023.3.23 tqdm-4.65.0\n"
     ]
    }
   ],
   "source": [
    "! pip install Pillow\n",
    "! pip install numpy\n",
    "! pip install match"
   ]
  },
  {
   "attachments": {},
   "cell_type": "markdown",
   "metadata": {},
   "source": [
    "## Gaussian Filtering"
   ]
  },
  {
   "cell_type": "code",
   "execution_count": 2,
   "metadata": {},
   "outputs": [],
   "source": [
    "from PIL import Image\n",
    "import numpy as np\n",
    "import math"
   ]
  },
  {
   "attachments": {},
   "cell_type": "markdown",
   "metadata": {},
   "source": [
    "### 1. boxfilter"
   ]
  },
  {
   "cell_type": "code",
   "execution_count": 3,
   "metadata": {},
   "outputs": [],
   "source": [
    "def boxfilter(n):\n",
    "    # n이 odd가 아니면 assert error\n",
    "    assert n%2==1, \"Dimension must be odd\"\n",
    "    return np.ones((n, n)) / (n * n)\n"
   ]
  },
  {
   "cell_type": "code",
   "execution_count": 4,
   "metadata": {},
   "outputs": [
    {
     "data": {
      "text/plain": [
       "array([[0.11111111, 0.11111111, 0.11111111],\n",
       "       [0.11111111, 0.11111111, 0.11111111],\n",
       "       [0.11111111, 0.11111111, 0.11111111]])"
      ]
     },
     "execution_count": 4,
     "metadata": {},
     "output_type": "execute_result"
    }
   ],
   "source": [
    "boxfilter(3)"
   ]
  },
  {
   "cell_type": "code",
   "execution_count": 5,
   "metadata": {},
   "outputs": [
    {
     "ename": "AssertionError",
     "evalue": "Dimension must be odd",
     "output_type": "error",
     "traceback": [
      "\u001b[1;31m---------------------------------------------------------------------------\u001b[0m",
      "\u001b[1;31mAssertionError\u001b[0m                            Traceback (most recent call last)",
      "Cell \u001b[1;32mIn[5], line 1\u001b[0m\n\u001b[1;32m----> 1\u001b[0m boxfilter(\u001b[39m4\u001b[39;49m)\n",
      "Cell \u001b[1;32mIn[3], line 3\u001b[0m, in \u001b[0;36mboxfilter\u001b[1;34m(n)\u001b[0m\n\u001b[0;32m      1\u001b[0m \u001b[39mdef\u001b[39;00m \u001b[39mboxfilter\u001b[39m(n):\n\u001b[0;32m      2\u001b[0m     \u001b[39m# n이 odd가 아니면 assert error\u001b[39;00m\n\u001b[1;32m----> 3\u001b[0m     \u001b[39massert\u001b[39;00m n\u001b[39m%\u001b[39m\u001b[39m2\u001b[39m\u001b[39m==\u001b[39m\u001b[39m1\u001b[39m, \u001b[39m\"\u001b[39m\u001b[39mDimension must be odd\u001b[39m\u001b[39m\"\u001b[39m\n\u001b[0;32m      4\u001b[0m     \u001b[39mreturn\u001b[39;00m np\u001b[39m.\u001b[39mones((n, n)) \u001b[39m/\u001b[39m (n \u001b[39m*\u001b[39m n)\n",
      "\u001b[1;31mAssertionError\u001b[0m: Dimension must be odd"
     ]
    }
   ],
   "source": [
    "boxfilter(4)"
   ]
  },
  {
   "cell_type": "code",
   "execution_count": 6,
   "metadata": {},
   "outputs": [
    {
     "data": {
      "text/plain": [
       "array([[0.04, 0.04, 0.04, 0.04, 0.04],\n",
       "       [0.04, 0.04, 0.04, 0.04, 0.04],\n",
       "       [0.04, 0.04, 0.04, 0.04, 0.04],\n",
       "       [0.04, 0.04, 0.04, 0.04, 0.04],\n",
       "       [0.04, 0.04, 0.04, 0.04, 0.04]])"
      ]
     },
     "execution_count": 6,
     "metadata": {},
     "output_type": "execute_result"
    }
   ],
   "source": [
    "boxfilter(5)"
   ]
  },
  {
   "attachments": {},
   "cell_type": "markdown",
   "metadata": {},
   "source": [
    "### 2.gauss1d(sigma)"
   ]
  },
  {
   "cell_type": "code",
   "execution_count": 7,
   "metadata": {},
   "outputs": [],
   "source": [
    "def gauss1d(sigma):\n",
    "    length = math.ceil(sigma * 6)\n",
    "    if length % 2 == 0:\n",
    "        length += 1\n",
    "    xs = np.arange(-(length // 2), length // 2 + 1, 1)\n",
    "    gaussian = np.exp(-xs**2 / (2 * sigma ** 2))\n",
    "    return gaussian / np.sum(gaussian)"
   ]
  },
  {
   "cell_type": "code",
   "execution_count": 8,
   "metadata": {},
   "outputs": [
    {
     "data": {
      "text/plain": [
       "array([0.00383626, 0.99232748, 0.00383626])"
      ]
     },
     "execution_count": 8,
     "metadata": {},
     "output_type": "execute_result"
    }
   ],
   "source": [
    "gauss1d(0.3)"
   ]
  },
  {
   "cell_type": "code",
   "execution_count": 9,
   "metadata": {},
   "outputs": [
    {
     "data": {
      "text/plain": [
       "array([0.10650698, 0.78698604, 0.10650698])"
      ]
     },
     "execution_count": 9,
     "metadata": {},
     "output_type": "execute_result"
    }
   ],
   "source": [
    "gauss1d(0.5)"
   ]
  },
  {
   "cell_type": "code",
   "execution_count": 10,
   "metadata": {},
   "outputs": [
    {
     "data": {
      "text/plain": [
       "array([0.00443305, 0.05400558, 0.24203623, 0.39905028, 0.24203623,\n",
       "       0.05400558, 0.00443305])"
      ]
     },
     "execution_count": 10,
     "metadata": {},
     "output_type": "execute_result"
    }
   ],
   "source": [
    "gauss1d(1)"
   ]
  },
  {
   "cell_type": "code",
   "execution_count": 11,
   "metadata": {},
   "outputs": [
    {
     "data": {
      "text/plain": [
       "array([0.0022182 , 0.00877313, 0.02702316, 0.06482519, 0.12110939,\n",
       "       0.17621312, 0.19967563, 0.17621312, 0.12110939, 0.06482519,\n",
       "       0.02702316, 0.00877313, 0.0022182 ])"
      ]
     },
     "execution_count": 11,
     "metadata": {},
     "output_type": "execute_result"
    }
   ],
   "source": [
    "gauss1d(2)"
   ]
  },
  {
   "attachments": {},
   "cell_type": "markdown",
   "metadata": {},
   "source": [
    "### 3. gauss2d(sigma)"
   ]
  },
  {
   "cell_type": "code",
   "execution_count": 12,
   "metadata": {},
   "outputs": [],
   "source": [
    "def gauss2d(sigma):\n",
    "    gaussian1d = gauss1d(sigma)\n",
    "    return np.outer(gaussian1d, gaussian1d)"
   ]
  },
  {
   "cell_type": "code",
   "execution_count": 13,
   "metadata": {},
   "outputs": [
    {
     "data": {
      "text/plain": [
       "array([[0.01134374, 0.08381951, 0.01134374],\n",
       "       [0.08381951, 0.61934703, 0.08381951],\n",
       "       [0.01134374, 0.08381951, 0.01134374]])"
      ]
     },
     "execution_count": 13,
     "metadata": {},
     "output_type": "execute_result"
    }
   ],
   "source": [
    "gauss2d(0.5)"
   ]
  },
  {
   "cell_type": "code",
   "execution_count": 14,
   "metadata": {},
   "outputs": [
    {
     "data": {
      "text/plain": [
       "array([[1.96519161e-05, 2.39409349e-04, 1.07295826e-03, 1.76900911e-03,\n",
       "        1.07295826e-03, 2.39409349e-04, 1.96519161e-05],\n",
       "       [2.39409349e-04, 2.91660295e-03, 1.30713076e-02, 2.15509428e-02,\n",
       "        1.30713076e-02, 2.91660295e-03, 2.39409349e-04],\n",
       "       [1.07295826e-03, 1.30713076e-02, 5.85815363e-02, 9.65846250e-02,\n",
       "        5.85815363e-02, 1.30713076e-02, 1.07295826e-03],\n",
       "       [1.76900911e-03, 2.15509428e-02, 9.65846250e-02, 1.59241126e-01,\n",
       "        9.65846250e-02, 2.15509428e-02, 1.76900911e-03],\n",
       "       [1.07295826e-03, 1.30713076e-02, 5.85815363e-02, 9.65846250e-02,\n",
       "        5.85815363e-02, 1.30713076e-02, 1.07295826e-03],\n",
       "       [2.39409349e-04, 2.91660295e-03, 1.30713076e-02, 2.15509428e-02,\n",
       "        1.30713076e-02, 2.91660295e-03, 2.39409349e-04],\n",
       "       [1.96519161e-05, 2.39409349e-04, 1.07295826e-03, 1.76900911e-03,\n",
       "        1.07295826e-03, 2.39409349e-04, 1.96519161e-05]])"
      ]
     },
     "execution_count": 14,
     "metadata": {},
     "output_type": "execute_result"
    }
   ],
   "source": [
    "gauss2d(1)"
   ]
  },
  {
   "attachments": {},
   "cell_type": "markdown",
   "metadata": {},
   "source": [
    "### 4. convovle2d(array, filter)"
   ]
  },
  {
   "cell_type": "code",
   "execution_count": 15,
   "metadata": {},
   "outputs": [],
   "source": [
    "def convolve2d(array, filter):\n",
    "    height, width = array.shape\n",
    "    filterSize = filter.shape[0]\n",
    "\n",
    "    paddingSize = filterSize // 2\n",
    "\n",
    "    modifiedArray = np.zeros((height + 2 * paddingSize, width + 2 * paddingSize))\n",
    "    modifiedArray[paddingSize:-paddingSize, paddingSize: -paddingSize] = array\n",
    "\n",
    "    result = np.zeros((height, width))\n",
    "\n",
    "    np.flip(filter, axis=0)\n",
    "    np.flip(filter, axis=1)\n",
    "\n",
    "    for i in range(height):\n",
    "        for j in range(width):\n",
    "            window = modifiedArray[i:i+filterSize, j:j+filterSize]\n",
    "\n",
    "            result[i,j] = np.sum(window * filter)\n",
    "    \n",
    "    return result\n",
    "    "
   ]
  },
  {
   "cell_type": "code",
   "execution_count": 16,
   "metadata": {},
   "outputs": [],
   "source": [
    "def gaussconvolve2d(array, sigma):\n",
    "    filter = gauss2d(sigma)\n",
    "    return convolve2d(array, filter)"
   ]
  },
  {
   "cell_type": "code",
   "execution_count": 17,
   "metadata": {},
   "outputs": [],
   "source": [
    "im = Image.open('./images/2b_dog.bmp')\n",
    "im.show()\n",
    "im = im.convert('L')\n",
    "im = np.asarray(im)\n",
    "\n",
    "im = gaussconvolve2d(im, 3)\n",
    "im = np.clip(im, 0, 255).astype(np.uint8)\n",
    "im = Image.fromarray(im)\n",
    "im.save(\"./result_images/dog_convolution.png\", \"PNG\")\n",
    "im.show()"
   ]
  },
  {
   "cell_type": "markdown",
   "metadata": {},
   "source": [
    "## Hypbrid Images"
   ]
  },
  {
   "attachments": {},
   "cell_type": "markdown",
   "metadata": {},
   "source": [
    "### 1. Gaussian filtered low frequency image"
   ]
  },
  {
   "cell_type": "code",
   "execution_count": 19,
   "metadata": {},
   "outputs": [],
   "source": [
    "tower = Image.open('./images/3b_tower.bmp')\n",
    "tower = np.asarray(tower)\n",
    "sigma = 3\n",
    "\n",
    "r = gaussconvolve2d(tower[:,:,0], sigma)\n",
    "g = gaussconvolve2d(tower[:,:,1], sigma)\n",
    "b = gaussconvolve2d(tower[:,:,2], sigma)\n",
    "\n",
    "tower = np.dstack([r, g, b])\n",
    "tower = np.clip(tower, 0, 255).astype(np.uint8)\n",
    "towerImage = Image.fromarray(tower)\n",
    "towerImage.save(\"./result_images/blur_image.png\", \"PNG\")\n",
    "towerImage.show()"
   ]
  },
  {
   "cell_type": "code",
   "execution_count": 20,
   "metadata": {},
   "outputs": [],
   "source": [
    "eiffel = Image.open('./images/3a_eiffel.bmp')\n",
    "eiffel = np.asarray(eiffel)\n",
    "sigma = 3\n",
    "\n",
    "r = gaussconvolve2d(eiffel[:,:,0], sigma)\n",
    "g = gaussconvolve2d(eiffel[:,:,1], sigma)\n",
    "b = gaussconvolve2d(eiffel[:,:,2], sigma)\n",
    "\n",
    "blurredEiffel = np.dstack([r, g, b])\n",
    "blurredEiffel = np.clip(blurredEiffel, 0, 255).astype(np.int16)\n",
    "\n",
    "highFreqEiffel = eiffel - blurredEiffel\n",
    "\n",
    "highFreqEiffel = np.clip(highFreqEiffel, -128, 127).astype(np.int16)\n",
    "\n",
    "visulalizeHighFreqEiffel = highFreqEiffel + np.ones_like(highFreqEiffel) * 128\n",
    "visulalizeHighFreqEiffel = np.clip(visulalizeHighFreqEiffel, 0, 255).astype(np.uint8)\n",
    "visulalizeHighFreqEiffel = Image.fromarray(visulalizeHighFreqEiffel)\n",
    "\n",
    "visulalizeHighFreqEiffel.save(\"./result_images/hig_freq_image.png\", \"PNG\")\n",
    "visulalizeHighFreqEiffel.show()"
   ]
  },
  {
   "cell_type": "code",
   "execution_count": 21,
   "metadata": {},
   "outputs": [],
   "source": [
    "hybridImage = tower + highFreqEiffel\n",
    "hybridImage = np.clip(hybridImage, 0, 255).astype(np.uint8)\n",
    "hybridImage = Image.fromarray(hybridImage)\n",
    "hybridImage.save(\"./result_images/hybird_image.png\", \"PNG\")\n",
    "hybridImage.show()"
   ]
  }
 ],
 "metadata": {
  "kernelspec": {
   "display_name": ".venv",
   "language": "python",
   "name": "python3"
  },
  "language_info": {
   "codemirror_mode": {
    "name": "ipython",
    "version": 3
   },
   "file_extension": ".py",
   "mimetype": "text/x-python",
   "name": "python",
   "nbconvert_exporter": "python",
   "pygments_lexer": "ipython3",
   "version": "3.8.16"
  },
  "orig_nbformat": 4
 },
 "nbformat": 4,
 "nbformat_minor": 2
}
